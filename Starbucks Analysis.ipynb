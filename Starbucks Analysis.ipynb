{
 "cells": [
  {
   "cell_type": "code",
   "execution_count": 152,
   "id": "9e7679a0",
   "metadata": {},
   "outputs": [],
   "source": [
    "import pandas as pd\n",
    "\n",
    "df_starbucks_storecount = pd.read_excel('FY23-Q3-Store-Counts-by-Market.xlsx', sheet_name='Number of Stores by Country')\n",
    "df_starbucks_supple = pd.read_excel('FY23-Q3-Store-Counts-by-Market.xlsx', sheet_name='Supplemental Data')"
   ]
  },
  {
   "cell_type": "code",
   "execution_count": 153,
   "id": "8d0a7bcf",
   "metadata": {},
   "outputs": [
    {
     "data": {
      "text/html": [
       "<div>\n",
       "<style scoped>\n",
       "    .dataframe tbody tr th:only-of-type {\n",
       "        vertical-align: middle;\n",
       "    }\n",
       "\n",
       "    .dataframe tbody tr th {\n",
       "        vertical-align: top;\n",
       "    }\n",
       "\n",
       "    .dataframe thead th {\n",
       "        text-align: right;\n",
       "    }\n",
       "</style>\n",
       "<table border=\"1\" class=\"dataframe\">\n",
       "  <thead>\n",
       "    <tr style=\"text-align: right;\">\n",
       "      <th></th>\n",
       "      <th>Country</th>\n",
       "      <th>FY23 Q3</th>\n",
       "      <th>FY23 Q2</th>\n",
       "      <th>FY23 Q1</th>\n",
       "      <th>FY22 Q4</th>\n",
       "      <th>FY22 Q3</th>\n",
       "      <th>FY22 Q2</th>\n",
       "      <th>FY22 Q1</th>\n",
       "      <th>FY21 Q4</th>\n",
       "      <th>FY21 Q3</th>\n",
       "      <th>FY21 Q2</th>\n",
       "      <th>FY21 Q1</th>\n",
       "      <th>FY20 Q4</th>\n",
       "      <th>Type</th>\n",
       "    </tr>\n",
       "  </thead>\n",
       "  <tbody>\n",
       "    <tr>\n",
       "      <th>0</th>\n",
       "      <td>Canada</td>\n",
       "      <td>476.0</td>\n",
       "      <td>473.0</td>\n",
       "      <td>473.0</td>\n",
       "      <td>471.0</td>\n",
       "      <td>464.0</td>\n",
       "      <td>457.0</td>\n",
       "      <td>469.0</td>\n",
       "      <td>468.0</td>\n",
       "      <td>441.0</td>\n",
       "      <td>450.0</td>\n",
       "      <td>450.0</td>\n",
       "      <td>444.0</td>\n",
       "      <td>Licensed</td>\n",
       "    </tr>\n",
       "    <tr>\n",
       "      <th>1</th>\n",
       "      <td>United States of America</td>\n",
       "      <td>6664.0</td>\n",
       "      <td>6662.0</td>\n",
       "      <td>6652.0</td>\n",
       "      <td>6608.0</td>\n",
       "      <td>6536.0</td>\n",
       "      <td>6515.0</td>\n",
       "      <td>6519.0</td>\n",
       "      <td>6497.0</td>\n",
       "      <td>6451.0</td>\n",
       "      <td>6431.0</td>\n",
       "      <td>6411.0</td>\n",
       "      <td>6387.0</td>\n",
       "      <td>Licensed</td>\n",
       "    </tr>\n",
       "    <tr>\n",
       "      <th>2</th>\n",
       "      <td>Andorra</td>\n",
       "      <td>2.0</td>\n",
       "      <td>2.0</td>\n",
       "      <td>2.0</td>\n",
       "      <td>2.0</td>\n",
       "      <td>2.0</td>\n",
       "      <td>2.0</td>\n",
       "      <td>2.0</td>\n",
       "      <td>2.0</td>\n",
       "      <td>2.0</td>\n",
       "      <td>2.0</td>\n",
       "      <td>2.0</td>\n",
       "      <td>2.0</td>\n",
       "      <td>Licensed</td>\n",
       "    </tr>\n",
       "    <tr>\n",
       "      <th>3</th>\n",
       "      <td>Argentina</td>\n",
       "      <td>132.0</td>\n",
       "      <td>131.0</td>\n",
       "      <td>131.0</td>\n",
       "      <td>133.0</td>\n",
       "      <td>133.0</td>\n",
       "      <td>133.0</td>\n",
       "      <td>133.0</td>\n",
       "      <td>133.0</td>\n",
       "      <td>133.0</td>\n",
       "      <td>134.0</td>\n",
       "      <td>134.0</td>\n",
       "      <td>135.0</td>\n",
       "      <td>Licensed</td>\n",
       "    </tr>\n",
       "    <tr>\n",
       "      <th>4</th>\n",
       "      <td>Aruba</td>\n",
       "      <td>5.0</td>\n",
       "      <td>5.0</td>\n",
       "      <td>5.0</td>\n",
       "      <td>5.0</td>\n",
       "      <td>5.0</td>\n",
       "      <td>5.0</td>\n",
       "      <td>5.0</td>\n",
       "      <td>5.0</td>\n",
       "      <td>5.0</td>\n",
       "      <td>5.0</td>\n",
       "      <td>5.0</td>\n",
       "      <td>4.0</td>\n",
       "      <td>Licensed</td>\n",
       "    </tr>\n",
       "  </tbody>\n",
       "</table>\n",
       "</div>"
      ],
      "text/plain": [
       "                    Country  FY23 Q3  FY23 Q2  FY23 Q1   FY22 Q4  FY22 Q3  \\\n",
       "0                    Canada    476.0    473.0     473.0    471.0    464.0   \n",
       "1  United States of America   6664.0   6662.0    6652.0   6608.0   6536.0   \n",
       "2                   Andorra      2.0      2.0       2.0      2.0      2.0   \n",
       "3                 Argentina    132.0    131.0     131.0    133.0    133.0   \n",
       "4                     Aruba      5.0      5.0       5.0      5.0      5.0   \n",
       "\n",
       "   FY22 Q2  FY22 Q1  FY21 Q4  FY21 Q3  FY21 Q2  FY21 Q1  FY20 Q4      Type  \n",
       "0    457.0    469.0    468.0    441.0    450.0    450.0    444.0  Licensed  \n",
       "1   6515.0   6519.0   6497.0   6451.0   6431.0   6411.0   6387.0  Licensed  \n",
       "2      2.0      2.0      2.0      2.0      2.0      2.0      2.0  Licensed  \n",
       "3    133.0    133.0    133.0    133.0    134.0    134.0    135.0  Licensed  \n",
       "4      5.0      5.0      5.0      5.0      5.0      5.0      4.0  Licensed  "
      ]
     },
     "execution_count": 153,
     "metadata": {},
     "output_type": "execute_result"
    }
   ],
   "source": [
    "df_starbucks_storecount.head()"
   ]
  },
  {
   "cell_type": "code",
   "execution_count": 154,
   "id": "5a9a0541",
   "metadata": {},
   "outputs": [
    {
     "data": {
      "text/html": [
       "<div>\n",
       "<style scoped>\n",
       "    .dataframe tbody tr th:only-of-type {\n",
       "        vertical-align: middle;\n",
       "    }\n",
       "\n",
       "    .dataframe tbody tr th {\n",
       "        vertical-align: top;\n",
       "    }\n",
       "\n",
       "    .dataframe thead th {\n",
       "        text-align: right;\n",
       "    }\n",
       "</style>\n",
       "<table border=\"1\" class=\"dataframe\">\n",
       "  <thead>\n",
       "    <tr style=\"text-align: right;\">\n",
       "      <th></th>\n",
       "      <th>Quarter</th>\n",
       "      <th>Card as % of Transactions</th>\n",
       "      <th>Total Dollars Loaded ($M)</th>\n",
       "      <th># of 90-Day Active Members (M)</th>\n",
       "      <th>Starbucks Rewards Member Spend % of Tender - Dollars</th>\n",
       "      <th>Mobile Order Transactions as % of Total Transactions</th>\n",
       "    </tr>\n",
       "  </thead>\n",
       "  <tbody>\n",
       "    <tr>\n",
       "      <th>0</th>\n",
       "      <td>FY23 Q3</td>\n",
       "      <td>0.44</td>\n",
       "      <td>2884.0</td>\n",
       "      <td>31.4</td>\n",
       "      <td>0.57</td>\n",
       "      <td>0.28</td>\n",
       "    </tr>\n",
       "    <tr>\n",
       "      <th>1</th>\n",
       "      <td>FY23 Q2</td>\n",
       "      <td>0.46</td>\n",
       "      <td>2565.0</td>\n",
       "      <td>30.8</td>\n",
       "      <td>0.57</td>\n",
       "      <td>0.28</td>\n",
       "    </tr>\n",
       "    <tr>\n",
       "      <th>2</th>\n",
       "      <td>FY23 Q1</td>\n",
       "      <td>0.44</td>\n",
       "      <td>3299.0</td>\n",
       "      <td>30.4</td>\n",
       "      <td>0.56</td>\n",
       "      <td>0.27</td>\n",
       "    </tr>\n",
       "    <tr>\n",
       "      <th>3</th>\n",
       "      <td>FY22 Q4</td>\n",
       "      <td>0.43</td>\n",
       "      <td>2514.0</td>\n",
       "      <td>28.7</td>\n",
       "      <td>0.55</td>\n",
       "      <td>0.26</td>\n",
       "    </tr>\n",
       "    <tr>\n",
       "      <th>4</th>\n",
       "      <td>FY22 Q3</td>\n",
       "      <td>0.45</td>\n",
       "      <td>2596.0</td>\n",
       "      <td>27.4</td>\n",
       "      <td>0.53</td>\n",
       "      <td>0.25</td>\n",
       "    </tr>\n",
       "  </tbody>\n",
       "</table>\n",
       "</div>"
      ],
      "text/plain": [
       "    Quarter  Card as % of Transactions  Total Dollars Loaded ($M)  \\\n",
       "0   FY23 Q3                       0.44                     2884.0   \n",
       "1   FY23 Q2                       0.46                     2565.0   \n",
       "2  FY23 Q1                        0.44                     3299.0   \n",
       "3   FY22 Q4                       0.43                     2514.0   \n",
       "4   FY22 Q3                       0.45                     2596.0   \n",
       "\n",
       "   # of 90-Day Active Members (M)  \\\n",
       "0                            31.4   \n",
       "1                            30.8   \n",
       "2                            30.4   \n",
       "3                            28.7   \n",
       "4                            27.4   \n",
       "\n",
       "   Starbucks Rewards Member Spend % of Tender - Dollars  \\\n",
       "0                                               0.57      \n",
       "1                                               0.57      \n",
       "2                                               0.56      \n",
       "3                                               0.55      \n",
       "4                                               0.53      \n",
       "\n",
       "   Mobile Order Transactions as % of Total Transactions  \n",
       "0                                               0.28     \n",
       "1                                               0.28     \n",
       "2                                               0.27     \n",
       "3                                               0.26     \n",
       "4                                               0.25     "
      ]
     },
     "execution_count": 154,
     "metadata": {},
     "output_type": "execute_result"
    }
   ],
   "source": [
    "df_starbucks_supple.head()"
   ]
  },
  {
   "cell_type": "markdown",
   "id": "fb3f8b00",
   "metadata": {},
   "source": [
    "# Analysis"
   ]
  },
  {
   "cell_type": "markdown",
   "id": "04a3017d",
   "metadata": {},
   "source": [
    "the data looks a bit empty, so i tried to add new feature to dataset. First adding new continent and region"
   ]
  },
  {
   "cell_type": "code",
   "execution_count": 155,
   "id": "a351a15c",
   "metadata": {},
   "outputs": [],
   "source": [
    "df_country_list = pd.read_excel('Country Region Continent.xlsx', sheet_name='list_of_country')\n"
   ]
  },
  {
   "cell_type": "code",
   "execution_count": 156,
   "id": "57563dab",
   "metadata": {},
   "outputs": [
    {
     "data": {
      "text/html": [
       "<div>\n",
       "<style scoped>\n",
       "    .dataframe tbody tr th:only-of-type {\n",
       "        vertical-align: middle;\n",
       "    }\n",
       "\n",
       "    .dataframe tbody tr th {\n",
       "        vertical-align: top;\n",
       "    }\n",
       "\n",
       "    .dataframe thead th {\n",
       "        text-align: right;\n",
       "    }\n",
       "</style>\n",
       "<table border=\"1\" class=\"dataframe\">\n",
       "  <thead>\n",
       "    <tr style=\"text-align: right;\">\n",
       "      <th></th>\n",
       "      <th>Country or Area</th>\n",
       "      <th>Region</th>\n",
       "      <th>Continent</th>\n",
       "    </tr>\n",
       "  </thead>\n",
       "  <tbody>\n",
       "    <tr>\n",
       "      <th>0</th>\n",
       "      <td>Afghanistan</td>\n",
       "      <td>Southern Asia</td>\n",
       "      <td>Asia</td>\n",
       "    </tr>\n",
       "    <tr>\n",
       "      <th>1</th>\n",
       "      <td>Åland Islands</td>\n",
       "      <td>Northern Europe</td>\n",
       "      <td>Europe</td>\n",
       "    </tr>\n",
       "    <tr>\n",
       "      <th>2</th>\n",
       "      <td>Albania</td>\n",
       "      <td>Southern Europe</td>\n",
       "      <td>Europe</td>\n",
       "    </tr>\n",
       "    <tr>\n",
       "      <th>3</th>\n",
       "      <td>Algeria</td>\n",
       "      <td>Northern Africa</td>\n",
       "      <td>Africa</td>\n",
       "    </tr>\n",
       "    <tr>\n",
       "      <th>4</th>\n",
       "      <td>American Samoa</td>\n",
       "      <td>Polynesia</td>\n",
       "      <td>Oceania</td>\n",
       "    </tr>\n",
       "  </tbody>\n",
       "</table>\n",
       "</div>"
      ],
      "text/plain": [
       "  Country or Area           Region Continent\n",
       "0     Afghanistan    Southern Asia      Asia\n",
       "1   Åland Islands  Northern Europe    Europe\n",
       "2         Albania  Southern Europe    Europe\n",
       "3         Algeria  Northern Africa    Africa\n",
       "4  American Samoa        Polynesia   Oceania"
      ]
     },
     "execution_count": 156,
     "metadata": {},
     "output_type": "execute_result"
    }
   ],
   "source": [
    "df_country_list.head()"
   ]
  },
  {
   "cell_type": "code",
   "execution_count": 157,
   "id": "d5ac2f40",
   "metadata": {},
   "outputs": [],
   "source": [
    "new_data_store = pd.merge(df_starbucks_storecount,df_country_list, left_on='Country', right_on='Country or Area').drop('Country or Area', axis=1)"
   ]
  },
  {
   "cell_type": "code",
   "execution_count": 163,
   "id": "23014f3e",
   "metadata": {},
   "outputs": [
    {
     "name": "stdout",
     "output_type": "stream",
     "text": [
      "<class 'pandas.core.frame.DataFrame'>\n",
      "Int64Index: 92 entries, 0 to 91\n",
      "Data columns (total 16 columns):\n",
      " #   Column     Non-Null Count  Dtype  \n",
      "---  ------     --------------  -----  \n",
      " 0   Country    92 non-null     object \n",
      " 1   FY20 Q4    92 non-null     float64\n",
      " 2   FY21 Q1    92 non-null     float64\n",
      " 3   FY21 Q2    92 non-null     float64\n",
      " 4   FY21 Q3    92 non-null     float64\n",
      " 5   FY21 Q4    92 non-null     float64\n",
      " 6   FY22 Q1    92 non-null     float64\n",
      " 7   FY22 Q2    92 non-null     float64\n",
      " 8   FY22 Q3    92 non-null     float64\n",
      " 9   FY22 Q4    92 non-null     float64\n",
      " 10  FY23 Q1    92 non-null     float64\n",
      " 11  FY23 Q2    92 non-null     float64\n",
      " 12  FY23 Q3    92 non-null     float64\n",
      " 13  Type       92 non-null     object \n",
      " 14  Region     92 non-null     object \n",
      " 15  Continent  92 non-null     object \n",
      "dtypes: float64(12), object(4)\n",
      "memory usage: 12.2+ KB\n"
     ]
    }
   ],
   "source": [
    "new_data_store.info()"
   ]
  },
  {
   "cell_type": "code",
   "execution_count": 164,
   "id": "b0d94244",
   "metadata": {},
   "outputs": [
    {
     "data": {
      "text/plain": [
       "Index(['Country', 'FY20 Q4', 'FY21 Q1', 'FY21 Q2', 'FY21 Q3', 'FY21 Q4',\n",
       "       'FY22 Q1', 'FY22 Q2', 'FY22 Q3', 'FY22 Q4', 'FY23 Q1 ', 'FY23 Q2',\n",
       "       'FY23 Q3', 'Type', 'Region', 'Continent'],\n",
       "      dtype='object')"
      ]
     },
     "execution_count": 164,
     "metadata": {},
     "output_type": "execute_result"
    }
   ],
   "source": [
    "new_data_store.columns"
   ]
  },
  {
   "cell_type": "markdown",
   "id": "f090f495",
   "metadata": {},
   "source": [
    "the columns FY23 Q1 has extra space in the end. let's rename it"
   ]
  },
  {
   "cell_type": "code",
   "execution_count": 165,
   "id": "7a1a14f3",
   "metadata": {},
   "outputs": [],
   "source": [
    "new_data_store.rename(columns = {'FY23 Q1 ':'FY23 Q1'}, inplace = True)"
   ]
  },
  {
   "cell_type": "markdown",
   "id": "9c13b852",
   "metadata": {},
   "source": [
    "the dataframe looks a bit off, i need to flip the data from oldest to newest"
   ]
  },
  {
   "cell_type": "code",
   "execution_count": 166,
   "id": "dea1e714",
   "metadata": {},
   "outputs": [],
   "source": [
    "new_cols = [\"Country\", \n",
    "            'FY20 Q4',\n",
    "            'FY21 Q1',\n",
    "            'FY21 Q2',\n",
    "            'FY21 Q3',\n",
    "            'FY21 Q4',\n",
    "            'FY22 Q1',\n",
    "            'FY22 Q2',\n",
    "            'FY22 Q3',\n",
    "            'FY22 Q4',\n",
    "            'FY23 Q1',\n",
    "            'FY23 Q2',\n",
    "            'FY23 Q3',\n",
    "            \"Type\",\n",
    "            \"Region\",\n",
    "            \"Continent\"]\n",
    "new_data_store=new_data_store[new_cols]\n"
   ]
  },
  {
   "cell_type": "code",
   "execution_count": 167,
   "id": "4998779a",
   "metadata": {},
   "outputs": [
    {
     "data": {
      "text/html": [
       "<div>\n",
       "<style scoped>\n",
       "    .dataframe tbody tr th:only-of-type {\n",
       "        vertical-align: middle;\n",
       "    }\n",
       "\n",
       "    .dataframe tbody tr th {\n",
       "        vertical-align: top;\n",
       "    }\n",
       "\n",
       "    .dataframe thead th {\n",
       "        text-align: right;\n",
       "    }\n",
       "</style>\n",
       "<table border=\"1\" class=\"dataframe\">\n",
       "  <thead>\n",
       "    <tr style=\"text-align: right;\">\n",
       "      <th></th>\n",
       "      <th>Country</th>\n",
       "      <th>FY20 Q4</th>\n",
       "      <th>FY21 Q1</th>\n",
       "      <th>FY21 Q2</th>\n",
       "      <th>FY21 Q3</th>\n",
       "      <th>FY21 Q4</th>\n",
       "      <th>FY22 Q1</th>\n",
       "      <th>FY22 Q2</th>\n",
       "      <th>FY22 Q3</th>\n",
       "      <th>FY22 Q4</th>\n",
       "      <th>FY23 Q1</th>\n",
       "      <th>FY23 Q2</th>\n",
       "      <th>FY23 Q3</th>\n",
       "      <th>Type</th>\n",
       "      <th>Region</th>\n",
       "      <th>Continent</th>\n",
       "    </tr>\n",
       "  </thead>\n",
       "  <tbody>\n",
       "    <tr>\n",
       "      <th>0</th>\n",
       "      <td>Canada</td>\n",
       "      <td>444.0</td>\n",
       "      <td>450.0</td>\n",
       "      <td>450.0</td>\n",
       "      <td>441.0</td>\n",
       "      <td>468.0</td>\n",
       "      <td>469.0</td>\n",
       "      <td>457.0</td>\n",
       "      <td>464.0</td>\n",
       "      <td>471.0</td>\n",
       "      <td>473.0</td>\n",
       "      <td>473.0</td>\n",
       "      <td>476.0</td>\n",
       "      <td>Licensed</td>\n",
       "      <td>Northern America</td>\n",
       "      <td>North America</td>\n",
       "    </tr>\n",
       "    <tr>\n",
       "      <th>1</th>\n",
       "      <td>Canada</td>\n",
       "      <td>1159.0</td>\n",
       "      <td>1100.0</td>\n",
       "      <td>963.0</td>\n",
       "      <td>963.0</td>\n",
       "      <td>908.0</td>\n",
       "      <td>919.0</td>\n",
       "      <td>925.0</td>\n",
       "      <td>936.0</td>\n",
       "      <td>946.0</td>\n",
       "      <td>956.0</td>\n",
       "      <td>965.0</td>\n",
       "      <td>972.0</td>\n",
       "      <td>Co-operated</td>\n",
       "      <td>Northern America</td>\n",
       "      <td>North America</td>\n",
       "    </tr>\n",
       "    <tr>\n",
       "      <th>2</th>\n",
       "      <td>United States of America</td>\n",
       "      <td>6387.0</td>\n",
       "      <td>6411.0</td>\n",
       "      <td>6431.0</td>\n",
       "      <td>6451.0</td>\n",
       "      <td>6497.0</td>\n",
       "      <td>6519.0</td>\n",
       "      <td>6515.0</td>\n",
       "      <td>6536.0</td>\n",
       "      <td>6608.0</td>\n",
       "      <td>6652.0</td>\n",
       "      <td>6662.0</td>\n",
       "      <td>6664.0</td>\n",
       "      <td>Licensed</td>\n",
       "      <td>Northern America</td>\n",
       "      <td>North America</td>\n",
       "    </tr>\n",
       "    <tr>\n",
       "      <th>3</th>\n",
       "      <td>United States of America</td>\n",
       "      <td>8950.0</td>\n",
       "      <td>8929.0</td>\n",
       "      <td>8857.0</td>\n",
       "      <td>8897.0</td>\n",
       "      <td>8953.0</td>\n",
       "      <td>8981.0</td>\n",
       "      <td>9029.0</td>\n",
       "      <td>9114.0</td>\n",
       "      <td>9270.0</td>\n",
       "      <td>9300.0</td>\n",
       "      <td>9382.0</td>\n",
       "      <td>9480.0</td>\n",
       "      <td>Co-operated</td>\n",
       "      <td>Northern America</td>\n",
       "      <td>North America</td>\n",
       "    </tr>\n",
       "    <tr>\n",
       "      <th>4</th>\n",
       "      <td>Andorra</td>\n",
       "      <td>2.0</td>\n",
       "      <td>2.0</td>\n",
       "      <td>2.0</td>\n",
       "      <td>2.0</td>\n",
       "      <td>2.0</td>\n",
       "      <td>2.0</td>\n",
       "      <td>2.0</td>\n",
       "      <td>2.0</td>\n",
       "      <td>2.0</td>\n",
       "      <td>2.0</td>\n",
       "      <td>2.0</td>\n",
       "      <td>2.0</td>\n",
       "      <td>Licensed</td>\n",
       "      <td>Southern Europe</td>\n",
       "      <td>Europe</td>\n",
       "    </tr>\n",
       "    <tr>\n",
       "      <th>...</th>\n",
       "      <td>...</td>\n",
       "      <td>...</td>\n",
       "      <td>...</td>\n",
       "      <td>...</td>\n",
       "      <td>...</td>\n",
       "      <td>...</td>\n",
       "      <td>...</td>\n",
       "      <td>...</td>\n",
       "      <td>...</td>\n",
       "      <td>...</td>\n",
       "      <td>...</td>\n",
       "      <td>...</td>\n",
       "      <td>...</td>\n",
       "      <td>...</td>\n",
       "      <td>...</td>\n",
       "      <td>...</td>\n",
       "    </tr>\n",
       "    <tr>\n",
       "      <th>87</th>\n",
       "      <td>United Arab Emirates</td>\n",
       "      <td>212.0</td>\n",
       "      <td>216.0</td>\n",
       "      <td>220.0</td>\n",
       "      <td>225.0</td>\n",
       "      <td>233.0</td>\n",
       "      <td>243.0</td>\n",
       "      <td>251.0</td>\n",
       "      <td>265.0</td>\n",
       "      <td>273.0</td>\n",
       "      <td>280.0</td>\n",
       "      <td>284.0</td>\n",
       "      <td>286.0</td>\n",
       "      <td>Licensed</td>\n",
       "      <td>Western Asia</td>\n",
       "      <td>Asia</td>\n",
       "    </tr>\n",
       "    <tr>\n",
       "      <th>88</th>\n",
       "      <td>United Kingdom</td>\n",
       "      <td>737.0</td>\n",
       "      <td>748.0</td>\n",
       "      <td>762.0</td>\n",
       "      <td>771.0</td>\n",
       "      <td>791.0</td>\n",
       "      <td>811.0</td>\n",
       "      <td>827.0</td>\n",
       "      <td>842.0</td>\n",
       "      <td>838.0</td>\n",
       "      <td>860.0</td>\n",
       "      <td>878.0</td>\n",
       "      <td>894.0</td>\n",
       "      <td>Licensed</td>\n",
       "      <td>Northern Europe</td>\n",
       "      <td>Europe</td>\n",
       "    </tr>\n",
       "    <tr>\n",
       "      <th>89</th>\n",
       "      <td>Uruguay</td>\n",
       "      <td>9.0</td>\n",
       "      <td>9.0</td>\n",
       "      <td>9.0</td>\n",
       "      <td>9.0</td>\n",
       "      <td>9.0</td>\n",
       "      <td>10.0</td>\n",
       "      <td>11.0</td>\n",
       "      <td>11.0</td>\n",
       "      <td>12.0</td>\n",
       "      <td>12.0</td>\n",
       "      <td>13.0</td>\n",
       "      <td>14.0</td>\n",
       "      <td>Licensed</td>\n",
       "      <td>South America</td>\n",
       "      <td>South America</td>\n",
       "    </tr>\n",
       "    <tr>\n",
       "      <th>90</th>\n",
       "      <td>Vietnam</td>\n",
       "      <td>65.0</td>\n",
       "      <td>67.0</td>\n",
       "      <td>67.0</td>\n",
       "      <td>72.0</td>\n",
       "      <td>73.0</td>\n",
       "      <td>76.0</td>\n",
       "      <td>79.0</td>\n",
       "      <td>79.0</td>\n",
       "      <td>82.0</td>\n",
       "      <td>87.0</td>\n",
       "      <td>89.0</td>\n",
       "      <td>92.0</td>\n",
       "      <td>Licensed</td>\n",
       "      <td>South-eastern Asia</td>\n",
       "      <td>Asia</td>\n",
       "    </tr>\n",
       "    <tr>\n",
       "      <th>91</th>\n",
       "      <td>China</td>\n",
       "      <td>4706.0</td>\n",
       "      <td>4863.0</td>\n",
       "      <td>4973.0</td>\n",
       "      <td>5135.0</td>\n",
       "      <td>5360.0</td>\n",
       "      <td>5557.0</td>\n",
       "      <td>5654.0</td>\n",
       "      <td>5761.0</td>\n",
       "      <td>6021.0</td>\n",
       "      <td>6090.0</td>\n",
       "      <td>6243.0</td>\n",
       "      <td>6480.0</td>\n",
       "      <td>Co-operated</td>\n",
       "      <td>Eastern Asia</td>\n",
       "      <td>Asia</td>\n",
       "    </tr>\n",
       "  </tbody>\n",
       "</table>\n",
       "<p>92 rows × 16 columns</p>\n",
       "</div>"
      ],
      "text/plain": [
       "                     Country  FY20 Q4  FY21 Q1  FY21 Q2  FY21 Q3  FY21 Q4  \\\n",
       "0                     Canada    444.0    450.0    450.0    441.0    468.0   \n",
       "1                     Canada   1159.0   1100.0    963.0    963.0    908.0   \n",
       "2   United States of America   6387.0   6411.0   6431.0   6451.0   6497.0   \n",
       "3   United States of America   8950.0   8929.0   8857.0   8897.0   8953.0   \n",
       "4                    Andorra      2.0      2.0      2.0      2.0      2.0   \n",
       "..                       ...      ...      ...      ...      ...      ...   \n",
       "87      United Arab Emirates    212.0    216.0    220.0    225.0    233.0   \n",
       "88            United Kingdom    737.0    748.0    762.0    771.0    791.0   \n",
       "89                   Uruguay      9.0      9.0      9.0      9.0      9.0   \n",
       "90                   Vietnam     65.0     67.0     67.0     72.0     73.0   \n",
       "91                     China   4706.0   4863.0   4973.0   5135.0   5360.0   \n",
       "\n",
       "    FY22 Q1  FY22 Q2  FY22 Q3  FY22 Q4  FY23 Q1  FY23 Q2  FY23 Q3  \\\n",
       "0     469.0    457.0    464.0    471.0    473.0    473.0    476.0   \n",
       "1     919.0    925.0    936.0    946.0    956.0    965.0    972.0   \n",
       "2    6519.0   6515.0   6536.0   6608.0   6652.0   6662.0   6664.0   \n",
       "3    8981.0   9029.0   9114.0   9270.0   9300.0   9382.0   9480.0   \n",
       "4       2.0      2.0      2.0      2.0      2.0      2.0      2.0   \n",
       "..      ...      ...      ...      ...      ...      ...      ...   \n",
       "87    243.0    251.0    265.0    273.0    280.0    284.0    286.0   \n",
       "88    811.0    827.0    842.0    838.0    860.0    878.0    894.0   \n",
       "89     10.0     11.0     11.0     12.0     12.0     13.0     14.0   \n",
       "90     76.0     79.0     79.0     82.0     87.0     89.0     92.0   \n",
       "91   5557.0   5654.0   5761.0   6021.0   6090.0   6243.0   6480.0   \n",
       "\n",
       "           Type              Region      Continent  \n",
       "0      Licensed    Northern America  North America  \n",
       "1   Co-operated    Northern America  North America  \n",
       "2      Licensed    Northern America  North America  \n",
       "3   Co-operated    Northern America  North America  \n",
       "4      Licensed     Southern Europe         Europe  \n",
       "..          ...                 ...            ...  \n",
       "87     Licensed        Western Asia           Asia  \n",
       "88     Licensed     Northern Europe         Europe  \n",
       "89     Licensed       South America  South America  \n",
       "90     Licensed  South-eastern Asia           Asia  \n",
       "91  Co-operated        Eastern Asia           Asia  \n",
       "\n",
       "[92 rows x 16 columns]"
      ]
     },
     "execution_count": 167,
     "metadata": {},
     "output_type": "execute_result"
    }
   ],
   "source": [
    "new_data_store"
   ]
  },
  {
   "cell_type": "code",
   "execution_count": 168,
   "id": "c3aea5f3",
   "metadata": {},
   "outputs": [
    {
     "data": {
      "text/plain": [
       "Index(['Country', 'FY20 Q4', 'FY21 Q1', 'FY21 Q2', 'FY21 Q3', 'FY21 Q4',\n",
       "       'FY22 Q1', 'FY22 Q2', 'FY22 Q3', 'FY22 Q4', 'FY23 Q1', 'FY23 Q2',\n",
       "       'FY23 Q3', 'Type', 'Region', 'Continent'],\n",
       "      dtype='object')"
      ]
     },
     "execution_count": 168,
     "metadata": {},
     "output_type": "execute_result"
    }
   ],
   "source": [
    "new_data_store.columns"
   ]
  },
  {
   "cell_type": "code",
   "execution_count": 169,
   "id": "ac848851",
   "metadata": {},
   "outputs": [
    {
     "data": {
      "text/html": [
       "<div>\n",
       "<style scoped>\n",
       "    .dataframe tbody tr th:only-of-type {\n",
       "        vertical-align: middle;\n",
       "    }\n",
       "\n",
       "    .dataframe tbody tr th {\n",
       "        vertical-align: top;\n",
       "    }\n",
       "\n",
       "    .dataframe thead th {\n",
       "        text-align: right;\n",
       "    }\n",
       "</style>\n",
       "<table border=\"1\" class=\"dataframe\">\n",
       "  <thead>\n",
       "    <tr style=\"text-align: right;\">\n",
       "      <th></th>\n",
       "      <th>Country</th>\n",
       "      <th>Continent</th>\n",
       "      <th>Region</th>\n",
       "      <th>Type</th>\n",
       "      <th>Quarter</th>\n",
       "      <th>Store Count</th>\n",
       "    </tr>\n",
       "  </thead>\n",
       "  <tbody>\n",
       "    <tr>\n",
       "      <th>0</th>\n",
       "      <td>Canada</td>\n",
       "      <td>North America</td>\n",
       "      <td>Northern America</td>\n",
       "      <td>Licensed</td>\n",
       "      <td>FY20 Q4</td>\n",
       "      <td>444.0</td>\n",
       "    </tr>\n",
       "    <tr>\n",
       "      <th>1</th>\n",
       "      <td>Canada</td>\n",
       "      <td>North America</td>\n",
       "      <td>Northern America</td>\n",
       "      <td>Co-operated</td>\n",
       "      <td>FY20 Q4</td>\n",
       "      <td>1159.0</td>\n",
       "    </tr>\n",
       "    <tr>\n",
       "      <th>2</th>\n",
       "      <td>United States of America</td>\n",
       "      <td>North America</td>\n",
       "      <td>Northern America</td>\n",
       "      <td>Licensed</td>\n",
       "      <td>FY20 Q4</td>\n",
       "      <td>6387.0</td>\n",
       "    </tr>\n",
       "    <tr>\n",
       "      <th>3</th>\n",
       "      <td>United States of America</td>\n",
       "      <td>North America</td>\n",
       "      <td>Northern America</td>\n",
       "      <td>Co-operated</td>\n",
       "      <td>FY20 Q4</td>\n",
       "      <td>8950.0</td>\n",
       "    </tr>\n",
       "    <tr>\n",
       "      <th>4</th>\n",
       "      <td>Andorra</td>\n",
       "      <td>Europe</td>\n",
       "      <td>Southern Europe</td>\n",
       "      <td>Licensed</td>\n",
       "      <td>FY20 Q4</td>\n",
       "      <td>2.0</td>\n",
       "    </tr>\n",
       "  </tbody>\n",
       "</table>\n",
       "</div>"
      ],
      "text/plain": [
       "                    Country      Continent            Region         Type  \\\n",
       "0                    Canada  North America  Northern America     Licensed   \n",
       "1                    Canada  North America  Northern America  Co-operated   \n",
       "2  United States of America  North America  Northern America     Licensed   \n",
       "3  United States of America  North America  Northern America  Co-operated   \n",
       "4                   Andorra         Europe   Southern Europe     Licensed   \n",
       "\n",
       "   Quarter  Store Count  \n",
       "0  FY20 Q4        444.0  \n",
       "1  FY20 Q4       1159.0  \n",
       "2  FY20 Q4       6387.0  \n",
       "3  FY20 Q4       8950.0  \n",
       "4  FY20 Q4          2.0  "
      ]
     },
     "execution_count": 169,
     "metadata": {},
     "output_type": "execute_result"
    }
   ],
   "source": [
    "#unpivot table\n",
    "# df_starbucks_storecount_melt = pd.melt(df_starbucks_storecount, id_vars=['Country', 'Continent', 'Region', 'Type'],\\\n",
    "#                                        value_vars=['FY23 Q3', 'FY23 Q2', 'FY23 Q1', 'FY22 Q4', 'FY22 Q3', 'FY22 Q2', 'FY22 Q1', 'FY21 Q4', 'FY21 Q3', 'FY21 Q2', 'FY21 Q1', 'FY20 Q4'],\\\n",
    "#                                       var_name = 'Quarter', value_name = 'Store Count')\n",
    "\n",
    "# df_starbucks_storecount_melt.head()\n",
    "\n",
    "new_data_store_melt = pd.melt(new_data_store, id_vars=['Country', 'Continent', 'Region', 'Type'],\\\n",
    "                                       value_vars=['FY20 Q4', 'FY21 Q1', 'FY21 Q2', 'FY21 Q3', 'FY21 Q4', 'FY22 Q1', 'FY22 Q2', 'FY22 Q3', 'FY22 Q4', 'FY23 Q1', 'FY23 Q2', 'FY23 Q3'],\\\n",
    "                                      var_name = 'Quarter', value_name = 'Store Count')\n",
    "\n",
    "new_data_store_melt.head()"
   ]
  },
  {
   "cell_type": "markdown",
   "id": "ee8805fb",
   "metadata": {},
   "source": [
    "let's example of year 2023 quater 2"
   ]
  },
  {
   "cell_type": "code",
   "execution_count": 171,
   "id": "56a6e83d",
   "metadata": {},
   "outputs": [
    {
     "data": {
      "text/html": [
       "<div>\n",
       "<style scoped>\n",
       "    .dataframe tbody tr th:only-of-type {\n",
       "        vertical-align: middle;\n",
       "    }\n",
       "\n",
       "    .dataframe tbody tr th {\n",
       "        vertical-align: top;\n",
       "    }\n",
       "\n",
       "    .dataframe thead th {\n",
       "        text-align: right;\n",
       "    }\n",
       "</style>\n",
       "<table border=\"1\" class=\"dataframe\">\n",
       "  <thead>\n",
       "    <tr style=\"text-align: right;\">\n",
       "      <th></th>\n",
       "      <th>Continent</th>\n",
       "      <th>Store Count</th>\n",
       "    </tr>\n",
       "  </thead>\n",
       "  <tbody>\n",
       "    <tr>\n",
       "      <th>0</th>\n",
       "      <td>North America</td>\n",
       "      <td>18429.0</td>\n",
       "    </tr>\n",
       "    <tr>\n",
       "      <th>1</th>\n",
       "      <td>Asia</td>\n",
       "      <td>14844.0</td>\n",
       "    </tr>\n",
       "    <tr>\n",
       "      <th>2</th>\n",
       "      <td>Europe</td>\n",
       "      <td>2108.0</td>\n",
       "    </tr>\n",
       "    <tr>\n",
       "      <th>3</th>\n",
       "      <td>South America</td>\n",
       "      <td>666.0</td>\n",
       "    </tr>\n",
       "    <tr>\n",
       "      <th>4</th>\n",
       "      <td>Africa</td>\n",
       "      <td>160.0</td>\n",
       "    </tr>\n",
       "  </tbody>\n",
       "</table>\n",
       "</div>"
      ],
      "text/plain": [
       "       Continent  Store Count\n",
       "0  North America      18429.0\n",
       "1           Asia      14844.0\n",
       "2         Europe       2108.0\n",
       "3  South America        666.0\n",
       "4         Africa        160.0"
      ]
     },
     "execution_count": 171,
     "metadata": {},
     "output_type": "execute_result"
    }
   ],
   "source": [
    "new_data_store_continent = new_data_store_melt[new_data_store_melt['Quarter'] == 'FY23 Q2'][['Continent', 'Store Count']].groupby('Continent').sum()\n",
    "new_data_store_continent = new_data_store_continent.sort_values('Store Count', ascending = False).reset_index()\n",
    "new_data_store_continent.head()"
   ]
  },
  {
   "cell_type": "code",
   "execution_count": 173,
   "id": "317bc7ff",
   "metadata": {},
   "outputs": [
    {
     "data": {
      "text/html": [
       "<div>\n",
       "<style scoped>\n",
       "    .dataframe tbody tr th:only-of-type {\n",
       "        vertical-align: middle;\n",
       "    }\n",
       "\n",
       "    .dataframe tbody tr th {\n",
       "        vertical-align: top;\n",
       "    }\n",
       "\n",
       "    .dataframe thead th {\n",
       "        text-align: right;\n",
       "    }\n",
       "</style>\n",
       "<table border=\"1\" class=\"dataframe\">\n",
       "  <thead>\n",
       "    <tr style=\"text-align: right;\">\n",
       "      <th></th>\n",
       "      <th>Continent</th>\n",
       "      <th>Region</th>\n",
       "      <th>Store Count</th>\n",
       "    </tr>\n",
       "  </thead>\n",
       "  <tbody>\n",
       "    <tr>\n",
       "      <th>0</th>\n",
       "      <td>Africa</td>\n",
       "      <td>Northern Africa</td>\n",
       "      <td>95.0</td>\n",
       "    </tr>\n",
       "    <tr>\n",
       "      <th>1</th>\n",
       "      <td>Africa</td>\n",
       "      <td>Southern Africa</td>\n",
       "      <td>65.0</td>\n",
       "    </tr>\n",
       "    <tr>\n",
       "      <th>2</th>\n",
       "      <td>Asia</td>\n",
       "      <td>Central Asia</td>\n",
       "      <td>35.0</td>\n",
       "    </tr>\n",
       "    <tr>\n",
       "      <th>3</th>\n",
       "      <td>Asia</td>\n",
       "      <td>Eastern Asia</td>\n",
       "      <td>10614.0</td>\n",
       "    </tr>\n",
       "    <tr>\n",
       "      <th>4</th>\n",
       "      <td>Asia</td>\n",
       "      <td>South-eastern Asia</td>\n",
       "      <td>2108.0</td>\n",
       "    </tr>\n",
       "  </tbody>\n",
       "</table>\n",
       "</div>"
      ],
      "text/plain": [
       "  Continent              Region  Store Count\n",
       "0    Africa     Northern Africa         95.0\n",
       "1    Africa     Southern Africa         65.0\n",
       "2      Asia        Central Asia         35.0\n",
       "3      Asia        Eastern Asia      10614.0\n",
       "4      Asia  South-eastern Asia       2108.0"
      ]
     },
     "execution_count": 173,
     "metadata": {},
     "output_type": "execute_result"
    }
   ],
   "source": [
    "new_data_store_regions = new_data_store_melt[new_data_store_melt['Quarter'] == 'FY23 Q2'][['Continent', 'Region', 'Store Count']].groupby(['Continent', 'Region']).sum()\n",
    "new_data_store_regions = new_data_store_regions.reset_index()\n",
    "new_data_store_regions.head()"
   ]
  },
  {
   "cell_type": "code",
   "execution_count": 175,
   "id": "34dd3b5c",
   "metadata": {},
   "outputs": [
    {
     "data": {
      "text/plain": [
       "(array([0, 1, 2, 3, 4, 5]),\n",
       " [Text(0, 0, 'North America'),\n",
       "  Text(1, 0, 'Asia'),\n",
       "  Text(2, 0, 'Europe'),\n",
       "  Text(3, 0, 'South America'),\n",
       "  Text(4, 0, 'Africa'),\n",
       "  Text(5, 0, 'Oceania')])"
      ]
     },
     "execution_count": 175,
     "metadata": {},
     "output_type": "execute_result"
    },
    {
     "data": {
      "image/png": "[encoded data removed]",
      "text/plain": [
       "<Figure size 432x288 with 1 Axes>"
      ]
     },
     "metadata": {
      "needs_background": "light"
     },
     "output_type": "display_data"
    }
   ],
   "source": [
    "import matplotlib.pyplot as plt\n",
    "import seaborn as sns\n",
    "\n",
    "sns.barplot(data=new_data_store_continent, x='Continent', y='Store Count')\n",
    "plt.xticks(rotation = 45)"
   ]
  },
  {
   "cell_type": "code",
   "execution_count": 177,
   "id": "096a0834",
   "metadata": {},
   "outputs": [
    {
     "data": {
      "text/plain": [
       "([<matplotlib.patches.Wedge at 0x7f81c0b3b370>,\n",
       "  <matplotlib.patches.Wedge at 0x7f81c0b3baf0>,\n",
       "  <matplotlib.patches.Wedge at 0x7f81c0b48250>,\n",
       "  <matplotlib.patches.Wedge at 0x7f81c0b48970>,\n",
       "  <matplotlib.patches.Wedge at 0x7f81c0b550d0>,\n",
       "  <matplotlib.patches.Wedge at 0x7f81c0b557f0>],\n",
       " [Text(-0.04089521823136568, 1.6995080409123724, 'North America'),\n",
       "  Text(-0.40091123721737, -1.6520502958060441, 'Asia'),\n",
       "  Text(1.6016400607389245, -0.5698676301003722, 'Europe'),\n",
       "  Text(1.6912037815951937, -0.17271296742895875, 'South America'),\n",
       "  Text(2.6487845057833304, -0.08025361002571746, 'Africa'),\n",
       "  Text(3.1498935495739078, -0.025896454442401524, 'Oceania')],\n",
       " [Text(-0.022853210188116112, 0.9497250816863254, '50.8%'),\n",
       "  Text(-0.22403863256264792, -0.9232045770680833, '40.9%'),\n",
       "  Text(0.8950341515893989, -0.31845544035020795, '5.8%'),\n",
       "  Text(0.9450844661855493, -0.09651607003382988, '1.8%'),\n",
       "  Text(1.899128513580501, -0.05754032416938233, '0.4%'),\n",
       "  Text(2.399918894913453, -0.019730631956115446, '0.3%')])"
      ]
     },
     "execution_count": 177,
     "metadata": {},
     "output_type": "execute_result"
    },
    {
     "data": {
      "image/png": "[encoded data removed]",
      "text/plain": [
       "<Figure size 432x288 with 1 Axes>"
      ]
     },
     "metadata": {},
     "output_type": "display_data"
    }
   ],
   "source": [
    "explode = [0.05, 0.05, 0.05, 0.05, 1, 1.5]\n",
    "palette_color = sns.color_palette('bright')\n",
    "\n",
    "plt.pie(new_data_store_continent['Store Count'], labels=new_data_store_continent['Continent'], colors=palette_color, radius = 1.5, explode=explode, autopct='%.1f%%')"
   ]
  },
  {
   "cell_type": "code",
   "execution_count": 178,
   "id": "9841600b",
   "metadata": {},
   "outputs": [
    {
     "name": "stdout",
     "output_type": "stream",
     "text": [
      "Africa\n",
      "            Region  Store Count\n",
      "0  Northern Africa         95.0\n",
      "1  Southern Africa         65.0\n"
     ]
    },
    {
     "data": {
      "image/png": "[encoded data removed]",
      "text/plain": [
       "<Figure size 432x288 with 1 Axes>"
      ]
     },
     "metadata": {
      "needs_background": "light"
     },
     "output_type": "display_data"
    },
    {
     "name": "stdout",
     "output_type": "stream",
     "text": [
      "Asia\n",
      "               Region  Store Count\n",
      "3        Eastern Asia      10614.0\n",
      "4  South-eastern Asia       2108.0\n",
      "6        Western Asia       1752.0\n",
      "5       Southern Asia        335.0\n",
      "2        Central Asia         35.0\n"
     ]
    },
    {
     "data": {
      "image/png": "[encoded data removed]",
      "text/plain": [
       "<Figure size 432x288 with 1 Axes>"
      ]
     },
     "metadata": {
      "needs_background": "light"
     },
     "output_type": "display_data"
    },
    {
     "name": "stdout",
     "output_type": "stream",
     "text": [
      "Europe\n",
      "             Region  Store Count\n",
      "8   Northern Europe       1013.0\n",
      "10   Western Europe        594.0\n",
      "9   Southern Europe        259.0\n",
      "7    Eastern Europe        242.0\n"
     ]
    },
    {
     "data": {
      "image/png": "[encoded data removed]",
      "text/plain": [
       "<Figure size 432x288 with 1 Axes>"
      ]
     },
     "metadata": {
      "needs_background": "light"
     },
     "output_type": "display_data"
    },
    {
     "name": "stdout",
     "output_type": "stream",
     "text": [
      "North America\n",
      "              Region  Store Count\n",
      "13  Northern America      17482.0\n",
      "12   Central America        856.0\n",
      "11         Caribbean         91.0\n"
     ]
    },
    {
     "data": {
      "image/png": "[encoded data removed]",
      "text/plain": [
       "<Figure size 432x288 with 1 Axes>"
      ]
     },
     "metadata": {
      "needs_background": "light"
     },
     "output_type": "display_data"
    },
    {
     "name": "stdout",
     "output_type": "stream",
     "text": [
      "Oceania\n",
      "                       Region  Store Count\n",
      "14  Australia and New Zealand         95.0\n"
     ]
    },
    {
     "data": {
      "image/png": "[encoded data removed]",
      "text/plain": [
       "<Figure size 432x288 with 1 Axes>"
      ]
     },
     "metadata": {
      "needs_background": "light"
     },
     "output_type": "display_data"
    },
    {
     "name": "stdout",
     "output_type": "stream",
     "text": [
      "South America\n",
      "           Region  Store Count\n",
      "15  South America        666.0\n"
     ]
    },
    {
     "data": {
      "image/png": "[encoded data removed]",
      "text/plain": [
       "<Figure size 432x288 with 1 Axes>"
      ]
     },
     "metadata": {
      "needs_background": "light"
     },
     "output_type": "display_data"
    }
   ],
   "source": [
    "arr_continent = new_data_store_regions['Continent'].unique()\n",
    "\n",
    "for continent in arr_continent:\n",
    "    print(continent)\n",
    "    df_region = new_data_store_regions[new_data_store_regions['Continent'] == continent][['Region', 'Store Count']].sort_values('Store Count', ascending=False)\n",
    "    print(df_region)\n",
    "    sns.barplot(data=df_region, x='Region', y='Store Count')\n",
    "    plt.title(continent)\n",
    "    plt.show()"
   ]
  },
  {
   "cell_type": "code",
   "execution_count": 179,
   "id": "fc273853",
   "metadata": {},
   "outputs": [
    {
     "data": {
      "text/html": [
       "<div>\n",
       "<style scoped>\n",
       "    .dataframe tbody tr th:only-of-type {\n",
       "        vertical-align: middle;\n",
       "    }\n",
       "\n",
       "    .dataframe tbody tr th {\n",
       "        vertical-align: top;\n",
       "    }\n",
       "\n",
       "    .dataframe thead th {\n",
       "        text-align: right;\n",
       "    }\n",
       "</style>\n",
       "<table border=\"1\" class=\"dataframe\">\n",
       "  <thead>\n",
       "    <tr style=\"text-align: right;\">\n",
       "      <th></th>\n",
       "      <th>Continent</th>\n",
       "      <th>Quarter</th>\n",
       "      <th>Store Count</th>\n",
       "    </tr>\n",
       "  </thead>\n",
       "  <tbody>\n",
       "    <tr>\n",
       "      <th>0</th>\n",
       "      <td>Africa</td>\n",
       "      <td>FY20 Q4</td>\n",
       "      <td>77.0</td>\n",
       "    </tr>\n",
       "    <tr>\n",
       "      <th>1</th>\n",
       "      <td>Africa</td>\n",
       "      <td>FY21 Q1</td>\n",
       "      <td>88.0</td>\n",
       "    </tr>\n",
       "    <tr>\n",
       "      <th>2</th>\n",
       "      <td>Africa</td>\n",
       "      <td>FY21 Q2</td>\n",
       "      <td>90.0</td>\n",
       "    </tr>\n",
       "    <tr>\n",
       "      <th>3</th>\n",
       "      <td>Africa</td>\n",
       "      <td>FY21 Q3</td>\n",
       "      <td>94.0</td>\n",
       "    </tr>\n",
       "    <tr>\n",
       "      <th>4</th>\n",
       "      <td>Africa</td>\n",
       "      <td>FY21 Q4</td>\n",
       "      <td>110.0</td>\n",
       "    </tr>\n",
       "  </tbody>\n",
       "</table>\n",
       "</div>"
      ],
      "text/plain": [
       "  Continent  Quarter  Store Count\n",
       "0    Africa  FY20 Q4         77.0\n",
       "1    Africa  FY21 Q1         88.0\n",
       "2    Africa  FY21 Q2         90.0\n",
       "3    Africa  FY21 Q3         94.0\n",
       "4    Africa  FY21 Q4        110.0"
      ]
     },
     "execution_count": 179,
     "metadata": {},
     "output_type": "execute_result"
    }
   ],
   "source": [
    "new_data_store_melt_growth = new_data_store_melt[['Continent', 'Quarter', 'Store Count']].groupby(['Continent', 'Quarter']).sum()\n",
    "new_data_store_melt_growth = new_data_store_melt_growth.sort_values(['Continent', 'Quarter']).reset_index()\n",
    "new_data_store_melt_growth.head()"
   ]
  },
  {
   "cell_type": "code",
   "execution_count": 180,
   "id": "82d3717f",
   "metadata": {},
   "outputs": [
    {
     "data": {
      "image/png": "[encoded data removed]",
      "text/plain": [
       "<Figure size 432x288 with 1 Axes>"
      ]
     },
     "metadata": {
      "needs_background": "light"
     },
     "output_type": "display_data"
    },
    {
     "data": {
      "image/png": "[encoded data removed]",
      "text/plain": [
       "<Figure size 432x288 with 1 Axes>"
      ]
     },
     "metadata": {
      "needs_background": "light"
     },
     "output_type": "display_data"
    },
    {
     "data": {
      "image/png": "[encoded data removed]",
      "text/plain": [
       "<Figure size 432x288 with 1 Axes>"
      ]
     },
     "metadata": {
      "needs_background": "light"
     },
     "output_type": "display_data"
    },
    {
     "data": {
      "image/png": "[encoded data removed]",
      "text/plain": [
       "<Figure size 432x288 with 1 Axes>"
      ]
     },
     "metadata": {
      "needs_background": "light"
     },
     "output_type": "display_data"
    },
    {
     "data": {
      "image/png": "[encoded data removed]",
      "text/plain": [
       "<Figure size 432x288 with 1 Axes>"
      ]
     },
     "metadata": {
      "needs_background": "light"
     },
     "output_type": "display_data"
    },
    {
     "data": {
      "image/png": "[encoded data removed]",
      "text/plain": [
       "<Figure size 432x288 with 1 Axes>"
      ]
     },
     "metadata": {
      "needs_background": "light"
     },
     "output_type": "display_data"
    }
   ],
   "source": [
    "import matplotlib.ticker as mtick\n",
    "\n",
    "arr_continent = new_data_store_regions['Continent'].unique()\n",
    "\n",
    "for continent in arr_continent:\n",
    "    #print(continent)\n",
    "    df_continent = new_data_store_melt_growth[new_data_store_melt_growth['Continent'] == continent][['Continent', 'Quarter', 'Store Count']]\n",
    "    growth_list = []\n",
    "    for quarter in range(len(df_continent) - 1):\n",
    "        a = df_continent.iloc[quarter]['Store Count']\n",
    "        b = df_continent.iloc[quarter + 1]['Store Count']\n",
    "        q = df_continent.iloc[quarter]['Quarter']\n",
    "        growth_rate = (b - a) / a\n",
    "        growth_list.append([q, growth_rate])\n",
    "    #print(growth_list)\n",
    "    df_growth = pd.DataFrame(growth_list)\n",
    "    df_growth.columns = ['Quarter', 'Growth Rate']\n",
    "    #print(df_growth.head())\n",
    "    line_growth = sns.lineplot(data=df_growth, x='Quarter', y='Growth Rate')\n",
    "    plt.title(continent)\n",
    "    plt.xticks(rotation=45)\n",
    "    line_growth.yaxis.set_major_formatter(mtick.PercentFormatter(xmax=1, decimals=None, symbol='%', is_latex=False))\n",
    "    plt.show()"
   ]
  },
  {
   "cell_type": "markdown",
   "id": "58d0c5fa",
   "metadata": {},
   "source": [
    "now let's process the supplement data"
   ]
  },
  {
   "cell_type": "code",
   "execution_count": 188,
   "id": "c45f3b6f",
   "metadata": {},
   "outputs": [],
   "source": [
    "new_supple = df_starbucks_supple[::-1]"
   ]
  },
  {
   "cell_type": "code",
   "execution_count": 189,
   "id": "a3f49393",
   "metadata": {},
   "outputs": [
    {
     "data": {
      "text/plain": [
       "[]"
      ]
     },
     "execution_count": 189,
     "metadata": {},
     "output_type": "execute_result"
    },
    {
     "data": {
      "image/png": "[encoded data removed]",
      "text/plain": [
       "<Figure size 432x288 with 1 Axes>"
      ]
     },
     "metadata": {
      "needs_background": "light"
     },
     "output_type": "display_data"
    }
   ],
   "source": [
    "import matplotlib.pyplot as plt\n",
    "import seaborn as sns\n",
    "\n",
    "sns.lineplot(x=\"Quarter\", y=\"Card as % of Transactions\", data=new_supple, marker='o', label='Starbucks Card')\n",
    "sns.lineplot(x=\"Quarter\", y=\"Mobile Order Transactions as % of Total Transactions\", data=new_supple, marker='o', label='Starbucks Mobile')\n",
    "plt.xticks(rotation = 45)\n",
    "plt.plot()"
   ]
  },
  {
   "cell_type": "code",
   "execution_count": 190,
   "id": "2c21b46f",
   "metadata": {},
   "outputs": [
    {
     "data": {
      "image/png": "[encoded data removed]",
      "text/plain": [
       "<Figure size 432x288 with 1 Axes>"
      ]
     },
     "metadata": {
      "needs_background": "light"
     },
     "output_type": "display_data"
    },
    {
     "name": "stdout",
     "output_type": "stream",
     "text": [
      "y = 24.08 + 0.947x\n"
     ]
    }
   ],
   "source": [
    "import scipy\n",
    "\n",
    "p = sns.regplot(x=df_starbucks_supple.index, y=\"# of 90-Day Active Members (M)\", data=new_supple, marker='o', label='Starbucks Dollars')\n",
    "plt.xticks(rotation = 45)\n",
    "plt.show()\n",
    "\n",
    "#calculate slope and intercept of regression equation\n",
    "slope, intercept, r, p, sterr = scipy.stats.linregress(x=p.get_lines()[0].get_xdata(),\n",
    "                                                       y=p.get_lines()[0].get_ydata())\n",
    "\n",
    "print('y = ' + str(round(intercept,3)) + ' + ' + str(round(slope,3)) + 'x')"
   ]
  },
  {
   "cell_type": "code",
   "execution_count": 191,
   "id": "01a7b5f8",
   "metadata": {},
   "outputs": [
    {
     "data": {
      "text/plain": [
       "<AxesSubplot:xlabel='Card as % of Transactions', ylabel='Mobile Order Transactions as % of Total Transactions'>"
      ]
     },
     "execution_count": 191,
     "metadata": {},
     "output_type": "execute_result"
    },
    {
     "data": {
      "image/png": "[encoded data removed]",
      "text/plain": [
       "<Figure size 432x288 with 1 Axes>"
      ]
     },
     "metadata": {
      "needs_background": "light"
     },
     "output_type": "display_data"
    }
   ],
   "source": [
    "sns.regplot(x=\"Card as % of Transactions\", y=\"Mobile Order Transactions as % of Total Transactions\", data=new_supple, marker='o', label='Starbucks Card')"
   ]
  },
  {
   "cell_type": "code",
   "execution_count": 192,
   "id": "dc6dc978",
   "metadata": {},
   "outputs": [
    {
     "data": {
      "text/html": [
       "<div>\n",
       "<style scoped>\n",
       "    .dataframe tbody tr th:only-of-type {\n",
       "        vertical-align: middle;\n",
       "    }\n",
       "\n",
       "    .dataframe tbody tr th {\n",
       "        vertical-align: top;\n",
       "    }\n",
       "\n",
       "    .dataframe thead th {\n",
       "        text-align: right;\n",
       "    }\n",
       "</style>\n",
       "<table border=\"1\" class=\"dataframe\">\n",
       "  <thead>\n",
       "    <tr style=\"text-align: right;\">\n",
       "      <th></th>\n",
       "      <th>Card as % of Transactions</th>\n",
       "      <th>Mobile Order Transactions as % of Total Transactions</th>\n",
       "    </tr>\n",
       "  </thead>\n",
       "  <tbody>\n",
       "    <tr>\n",
       "      <th>Card as % of Transactions</th>\n",
       "      <td>1.000000</td>\n",
       "      <td>-0.356466</td>\n",
       "    </tr>\n",
       "    <tr>\n",
       "      <th>Mobile Order Transactions as % of Total Transactions</th>\n",
       "      <td>-0.356466</td>\n",
       "      <td>1.000000</td>\n",
       "    </tr>\n",
       "  </tbody>\n",
       "</table>\n",
       "</div>"
      ],
      "text/plain": [
       "                                                    Card as % of Transactions  \\\n",
       "Card as % of Transactions                                            1.000000   \n",
       "Mobile Order Transactions as % of Total Transac...                  -0.356466   \n",
       "\n",
       "                                                    Mobile Order Transactions as % of Total Transactions  \n",
       "Card as % of Transactions                                                                   -0.356466     \n",
       "Mobile Order Transactions as % of Total Transac...                                           1.000000     "
      ]
     },
     "execution_count": 192,
     "metadata": {},
     "output_type": "execute_result"
    }
   ],
   "source": [
    "new_supple[['Card as % of Transactions', 'Mobile Order Transactions as % of Total Transactions']].corr(method='pearson')\n"
   ]
  },
  {
   "cell_type": "code",
   "execution_count": 199,
   "id": "dcfed72e",
   "metadata": {},
   "outputs": [],
   "source": [
    "# new_supple.to_excel(\"new_data_sup.xlsx\", sheet_name=\"Supplemental Data\", index=False)\n",
    "\n",
    "with pd.ExcelWriter(\"new_data_sup.xlsx\") as writer:\n",
    "   \n",
    "    # use to_excel function and specify the sheet_name and index\n",
    "    # to store the dataframe in specified sheet\n",
    "    new_data_store.to_excel(writer, sheet_name=\"Number of Stores by Country\", index=False)\n",
    "    new_supple.to_excel(writer, sheet_name=\"Supplemental Data\", index=False)"
   ]
  },
  {
   "cell_type": "markdown",
   "id": "8f51afe8",
   "metadata": {},
   "source": [
    "## Summary\n",
    "- North America and Asia leads number of open stores by a wide margin followed by Europe, South America, and Africa.\n",
    "- While there is overall growth throughout all continents, we can see that growth in Africa and Asia seem to be seasonal while growth in Europe and the Americas seems to grow steadily over time.\n",
    "- While customers used their Starbucks cards less for their transactions, they used Mobile orders more often over time.\n",
    "- We can carefully predict that Starbucks gains 983000 90-Day Active Members for every quarter.\n",
    "- There seems to be no correlation between customers using their Starbucks card for their transactions and customers using mobile orders for their transactions."
   ]
  },
  {
   "cell_type": "code",
   "execution_count": null,
   "id": "dec5e71f",
   "metadata": {},
   "outputs": [],
   "source": []
  }
 ],
 "metadata": {
  "kernelspec": {
   "display_name": "Python 3 (ipykernel)",
   "language": "python",
   "name": "python3"
  },
  "language_info": {
   "codemirror_mode": {
    "name": "ipython",
    "version": 3
   },
   "file_extension": ".py",
   "mimetype": "text/x-python",
   "name": "python",
   "nbconvert_exporter": "python",
   "pygments_lexer": "ipython3",
   "version": "3.9.7"
  }
 },
 "nbformat": 4,
 "nbformat_minor": 5
}
